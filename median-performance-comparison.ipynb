{
 "cells": [
  {
   "cell_type": "markdown",
   "id": "416dcb53",
   "metadata": {},
   "source": [
    "# <p style='color:#DAA520;background-color:gray;border-radius:2rem;text-align:center;font-size:4rem;padding:1rem'>library</p>"
   ]
  },
  {
   "cell_type": "code",
   "execution_count": 58,
   "id": "f4c908de",
   "metadata": {},
   "outputs": [],
   "source": [
    "#library\n",
    "import numpy as np\n",
    "import time\n",
    "import matplotlib.pyplot as plt"
   ]
  },
  {
   "cell_type": "markdown",
   "id": "86439bc5",
   "metadata": {},
   "source": [
    "- <p> <span style='color:yellow'>numpy</span> for our arithmetic work</p>\n",
    "- <p> <span style='color:yellow'>time</span> for calculate the time of both ways, one way is with python and other way is with numpy for finding the median</p>\n",
    "- <p> <span style='color:yellow'>matplotlib</span> is for chart</p>"
   ]
  },
  {
   "cell_type": "markdown",
   "id": "4c68f115",
   "metadata": {},
   "source": [
    "# <p style='color:#DAA520;background-color:gray;border-radius:2rem;text-align:center;font-size:4rem;padding:1rem'>Create a data</p>"
   ]
  },
  {
   "cell_type": "markdown",
   "id": "486e3941",
   "metadata": {},
   "source": [
    "##### Create a hundred random numbers in the range of 20 and 60"
   ]
  },
  {
   "cell_type": "code",
   "execution_count": 5,
   "id": "f730871c",
   "metadata": {},
   "outputs": [
    {
     "data": {
      "text/plain": [
       "[52,\n",
       " 21,\n",
       " 30,\n",
       " 21,\n",
       " 24,\n",
       " 50,\n",
       " 42,\n",
       " 43,\n",
       " 58,\n",
       " 45,\n",
       " 33,\n",
       " 28,\n",
       " 53,\n",
       " 55,\n",
       " 38,\n",
       " 57,\n",
       " 20,\n",
       " 31,\n",
       " 21,\n",
       " 48,\n",
       " 57,\n",
       " 42,\n",
       " 51,\n",
       " 38,\n",
       " 55,\n",
       " 50,\n",
       " 21,\n",
       " 38,\n",
       " 39,\n",
       " 44,\n",
       " 21,\n",
       " 35,\n",
       " 29,\n",
       " 30,\n",
       " 32,\n",
       " 49,\n",
       " 38,\n",
       " 53,\n",
       " 41,\n",
       " 48,\n",
       " 48,\n",
       " 55,\n",
       " 49,\n",
       " 32,\n",
       " 29,\n",
       " 33,\n",
       " 59,\n",
       " 31,\n",
       " 48,\n",
       " 37,\n",
       " 37,\n",
       " 48,\n",
       " 54,\n",
       " 44,\n",
       " 31,\n",
       " 59,\n",
       " 42,\n",
       " 57,\n",
       " 49,\n",
       " 25,\n",
       " 31,\n",
       " 34,\n",
       " 47,\n",
       " 21,\n",
       " 44,\n",
       " 44,\n",
       " 33,\n",
       " 22,\n",
       " 52,\n",
       " 38,\n",
       " 22,\n",
       " 37,\n",
       " 21,\n",
       " 51,\n",
       " 40,\n",
       " 47,\n",
       " 30,\n",
       " 33,\n",
       " 40,\n",
       " 20,\n",
       " 32,\n",
       " 47,\n",
       " 22,\n",
       " 33,\n",
       " 35,\n",
       " 32,\n",
       " 30,\n",
       " 26,\n",
       " 28,\n",
       " 40,\n",
       " 45,\n",
       " 47,\n",
       " 30,\n",
       " 25,\n",
       " 52,\n",
       " 31,\n",
       " 41,\n",
       " 21,\n",
       " 57,\n",
       " 45]"
      ]
     },
     "execution_count": 5,
     "metadata": {},
     "output_type": "execute_result"
    }
   ],
   "source": [
    "#create our data which is 100 random numbers between 20 and 60\n",
    "data = [np.random.randint(20,60) for _ in range(100)]\n",
    "data"
   ]
  },
  {
   "cell_type": "markdown",
   "id": "859c7644",
   "metadata": {},
   "source": [
    "##### *2D array our data*"
   ]
  },
  {
   "cell_type": "code",
   "execution_count": 7,
   "id": "90a83d39",
   "metadata": {},
   "outputs": [
    {
     "data": {
      "text/plain": [
       "array([52, 21, 30, 21, 24, 50, 42, 43, 58, 45, 33, 28, 53, 55, 38, 57, 20,\n",
       "       31, 21, 48, 57, 42, 51, 38, 55, 50, 21, 38, 39, 44, 21, 35, 29, 30,\n",
       "       32, 49, 38, 53, 41, 48, 48, 55, 49, 32, 29, 33, 59, 31, 48, 37, 37,\n",
       "       48, 54, 44, 31, 59, 42, 57, 49, 25, 31, 34, 47, 21, 44, 44, 33, 22,\n",
       "       52, 38, 22, 37, 21, 51, 40, 47, 30, 33, 40, 20, 32, 47, 22, 33, 35,\n",
       "       32, 30, 26, 28, 40, 45, 47, 30, 25, 52, 31, 41, 21, 57, 45])"
      ]
     },
     "execution_count": 7,
     "metadata": {},
     "output_type": "execute_result"
    }
   ],
   "source": [
    "#Array our data into 2D\n",
    "data_arr = np.array(data)\n",
    "data_arr"
   ]
  },
  {
   "cell_type": "markdown",
   "id": "6d9dc5d2",
   "metadata": {},
   "source": [
    "# <p style='color:#DAA520;background-color:gray;border-radius:2rem;text-align:center;font-size:4rem;padding:1rem'>start time python method</p>"
   ]
  },
  {
   "cell_type": "markdown",
   "id": "0b6345f6",
   "metadata": {},
   "source": [
    "##### start to calculate the time of execution for the median calculation with python"
   ]
  },
  {
   "cell_type": "code",
   "execution_count": 9,
   "id": "8ff85be3",
   "metadata": {},
   "outputs": [],
   "source": [
    "#times\n",
    "start_time = time.time()\n"
   ]
  },
  {
   "cell_type": "markdown",
   "id": "9b21cd1d",
   "metadata": {},
   "source": [
    "# <p style='color:#DAA520;background-color:gray;border-radius:2rem;text-align:center;font-size:4rem;padding:1rem'>Explanation</p>"
   ]
  },
  {
   "cell_type": "markdown",
   "id": "97e86427",
   "metadata": {},
   "source": [
    "#### Calculate Median with python method"
   ]
  },
  {
   "cell_type": "markdown",
   "id": "a55bb245",
   "metadata": {},
   "source": [
    "- <p>first we sort data for putting an order to the values</p>\n",
    "- <p>second we find lenghth of the data with len and then with condition we find out (% 2 == 0) we find out is it odd or not</p>"
   ]
  },
  {
   "cell_type": "markdown",
   "id": "d7f5ec94",
   "metadata": {},
   "source": [
    "# <p style='color:#DAA520;background-color:gray;border-radius:2rem;text-align:center;font-size:4rem;padding:1rem'>sort data</p>"
   ]
  },
  {
   "cell_type": "code",
   "execution_count": 13,
   "id": "2013e95e",
   "metadata": {},
   "outputs": [
    {
     "data": {
      "text/plain": [
       "array([20, 20, 21, 21, 21, 21, 21, 21, 21, 21, 22, 22, 22, 24, 25, 25, 26,\n",
       "       28, 28, 29, 29, 30, 30, 30, 30, 30, 31, 31, 31, 31, 31, 32, 32, 32,\n",
       "       32, 33, 33, 33, 33, 33, 34, 35, 35, 37, 37, 37, 38, 38, 38, 38, 38,\n",
       "       39, 40, 40, 40, 41, 41, 42, 42, 42, 43, 44, 44, 44, 44, 45, 45, 45,\n",
       "       47, 47, 47, 47, 48, 48, 48, 48, 48, 49, 49, 49, 50, 50, 51, 51, 52,\n",
       "       52, 52, 53, 53, 54, 55, 55, 55, 57, 57, 57, 57, 58, 59, 59])"
      ]
     },
     "execution_count": 13,
     "metadata": {},
     "output_type": "execute_result"
    }
   ],
   "source": [
    "sort_data = np.sort(data_arr)\n",
    "sort_data"
   ]
  },
  {
   "cell_type": "markdown",
   "id": "3c62d7b8",
   "metadata": {},
   "source": [
    "<p>we use <span style='color:yellow'>sort</span> to put an order to the date</p>"
   ]
  },
  {
   "cell_type": "markdown",
   "id": "0af8efc8",
   "metadata": {},
   "source": [
    "# <p style='color:#DAA520;background-color:gray;border-radius:2rem;text-align:center;font-size:4rem;padding:1rem'>odd or even</p>"
   ]
  },
  {
   "cell_type": "markdown",
   "id": "d0368509",
   "metadata": {},
   "source": [
    "##### lets find out its odd or even for median"
   ]
  },
  {
   "cell_type": "code",
   "execution_count": null,
   "id": "4231065a",
   "metadata": {},
   "outputs": [
    {
     "data": {
      "text/plain": [
       "100"
      ]
     },
     "execution_count": 15,
     "metadata": {},
     "output_type": "execute_result"
    }
   ],
   "source": [
    "# for finding the len it is odd or even for median\n",
    "n = len(sort_data)\n",
    "n"
   ]
  },
  {
   "cell_type": "markdown",
   "id": "deaab9ff",
   "metadata": {},
   "source": [
    "<p>we use <span style='color:yellow'>len</span> to find out the odd and even and then using formula</p>"
   ]
  },
  {
   "cell_type": "markdown",
   "id": "21040cd7",
   "metadata": {},
   "source": [
    "# <p style='color:#DAA520;background-color:gray;border-radius:10rem;text-align:center;padding:1rem'>Formula</p>"
   ]
  },
  {
   "cell_type": "markdown",
   "id": "b301d026",
   "metadata": {},
   "source": [
    "<p>Formula is:</p>\n",
    "<p dir='center'>\n",
    "\n",
    "$$\n",
    "\\text{Median} = \n",
    "\\begin{cases}\n",
    "x_{\\frac{n+1}{2}}, & \\text{if } n \\text{ is odd} \\\\\n",
    "\\frac{x_{\\frac{n}{2}} + x_{\\frac{n}{2}+1}}{2}, & \\text{if } n \\text{ is even}\n",
    "\\end{cases}\n",
    "$$\n",
    "\n",
    "</p>"
   ]
  },
  {
   "cell_type": "code",
   "execution_count": 18,
   "id": "53044084",
   "metadata": {},
   "outputs": [
    {
     "name": "stdout",
     "output_type": "stream",
     "text": [
      "38.0\n"
     ]
    }
   ],
   "source": [
    "if n % 2 == 0:\n",
    "       median_py = (sort_data[n//2-1] + sort_data[n//2])/2\n",
    "else:\n",
    "       median_py = sort_data[n//2]\n",
    "print(median_py)\n"
   ]
  },
  {
   "cell_type": "markdown",
   "id": "42874c59",
   "metadata": {},
   "source": [
    "# <p style='color:#DAA520;background-color:gray;border-radius:2rem;text-align:center;font-size:4rem;padding:1rem'>stop time python method</p>"
   ]
  },
  {
   "cell_type": "markdown",
   "id": "456b5c54",
   "metadata": {},
   "source": [
    "##### stop  to calculate the time of execution for the median calculation with python"
   ]
  },
  {
   "cell_type": "code",
   "execution_count": null,
   "id": "facf432f",
   "metadata": {},
   "outputs": [],
   "source": [
    "#stop time\n",
    "end_time = time.time()"
   ]
  },
  {
   "cell_type": "markdown",
   "id": "7ac491f3",
   "metadata": {},
   "source": [
    "# <p style='color:#DAA520;background-color:gray;border-radius:2rem;text-align:center;font-size:4rem;padding:1rem'>start time numpy method</p>"
   ]
  },
  {
   "cell_type": "markdown",
   "id": "9a194db4",
   "metadata": {},
   "source": [
    "##### start to calculate the time of execution for median calculation with numpy"
   ]
  },
  {
   "cell_type": "code",
   "execution_count": 21,
   "id": "b8c71492",
   "metadata": {},
   "outputs": [],
   "source": [
    "#start time with method two\n",
    "start_time_num = time.time()"
   ]
  },
  {
   "cell_type": "markdown",
   "id": "2a9cc270",
   "metadata": {},
   "source": [
    "# <p style='color:#DAA520;background-color:gray;border-radius:2rem;text-align:center;font-size:4rem;padding:1rem'>median with numpy</p>"
   ]
  },
  {
   "cell_type": "markdown",
   "id": "aa1923da",
   "metadata": {},
   "source": [
    "### calculate the median with numpy method"
   ]
  },
  {
   "cell_type": "code",
   "execution_count": 22,
   "id": "12085e30",
   "metadata": {},
   "outputs": [
    {
     "data": {
      "text/plain": [
       "np.float64(38.0)"
      ]
     },
     "execution_count": 22,
     "metadata": {},
     "output_type": "execute_result"
    }
   ],
   "source": [
    "# calculate median with numpy method\n",
    "median_numpy = np.median(data_arr)\n",
    "median_numpy"
   ]
  },
  {
   "cell_type": "markdown",
   "id": "32af19ea",
   "metadata": {},
   "source": [
    "# <p style='color:#DAA520;background-color:gray;border-radius:2rem;text-align:center;font-size:4rem;padding:1rem'>stop time numpy method</p>"
   ]
  },
  {
   "cell_type": "markdown",
   "id": "710f086b",
   "metadata": {},
   "source": [
    "##### stop to calculate the time of execution for median calculation with numpy"
   ]
  },
  {
   "cell_type": "code",
   "execution_count": 23,
   "id": "3c143638",
   "metadata": {},
   "outputs": [],
   "source": [
    "#end time\n",
    "end_time_num = time.time()"
   ]
  },
  {
   "cell_type": "markdown",
   "id": "5c6617bd",
   "metadata": {},
   "source": [
    "# <p style='color:#DAA520;background-color:gray;border-radius:10rem;text-align:center;padding:1rem'>Result</p>"
   ]
  },
  {
   "cell_type": "markdown",
   "id": "dc085c3a",
   "metadata": {},
   "source": [
    "### now lets see the result"
   ]
  },
  {
   "cell_type": "markdown",
   "id": "6a17393e",
   "metadata": {},
   "source": [
    "#### *compare the time of two methods of median*\n",
    "- one of them is with formula (python)\n",
    "- other one is with numpy method"
   ]
  },
  {
   "cell_type": "markdown",
   "id": "630748c6",
   "metadata": {},
   "source": [
    "# <p style='color:#DAA520;background-color:gray;border-radius:2rem;text-align:center;font-size:2rem;padding:1rem'>find out the times</p>\n",
    "- <code>end_time - start_time</code>"
   ]
  },
  {
   "cell_type": "markdown",
   "id": "4e1cd0cd",
   "metadata": {},
   "source": [
    "### <p style='color:white;background-color:black;border-radius:2rem;padding:1rem;font-size:2rem;'>with formula result and time</p>\n"
   ]
  },
  {
   "cell_type": "code",
   "execution_count": 26,
   "id": "b0cc71bb",
   "metadata": {},
   "outputs": [
    {
     "name": "stdout",
     "output_type": "stream",
     "text": [
      "Median with Python and formula: 38.0\n",
      "Time (Python): 309.4454233646 seconds\n"
     ]
    }
   ],
   "source": [
    "# with formula\n",
    "print(f\"Median with Python and formula: {median_py}\")\n",
    "# time\n",
    "print(f\"Time (Python): {end_time - start_time:.10f} seconds\")"
   ]
  },
  {
   "cell_type": "markdown",
   "id": "e90beca9",
   "metadata": {},
   "source": [
    "### <p style='color:white;background-color:black;border-radius:2rem;padding:1rem;font-size:2rem;'>With numpy result and time</p>"
   ]
  },
  {
   "cell_type": "code",
   "execution_count": 27,
   "id": "4e84af50",
   "metadata": {},
   "outputs": [
    {
     "name": "stdout",
     "output_type": "stream",
     "text": [
      "Median with NumPy: 38.0\n",
      "Time (NumPy): 108.2362244129 seconds\n"
     ]
    }
   ],
   "source": [
    "print(f\"Median with NumPy: {median_numpy}\")\n",
    "print(f\"Time (NumPy): {end_time_num - start_time_num:.10f} seconds\")"
   ]
  },
  {
   "cell_type": "markdown",
   "id": "ee942fa2",
   "metadata": {},
   "source": [
    "### <p style='color:#DAA520;background-color:gray;border-radius:2rem;text-align:center;font-size:2rem;padding:1rem'> more information</p>"
   ]
  },
  {
   "cell_type": "markdown",
   "id": "b455be11",
   "metadata": {},
   "source": [
    "\n",
    "- <p style='color:yellow;'>The numpy is faster due to written with C</p>\n",
    "- <p style='color:orange;'>The python is slower especially for huge datas</p>"
   ]
  },
  {
   "cell_type": "markdown",
   "id": "6c169cc0",
   "metadata": {},
   "source": [
    "<p style='color:green;background-color:black;border-radius:2rem;font-size:2rem;text-align:center;padding:1rem'> explanation and prove</p>"
   ]
  },
  {
   "cell_type": "code",
   "execution_count": 33,
   "id": "913cf44f",
   "metadata": {},
   "outputs": [
    {
     "name": "stdout",
     "output_type": "stream",
     "text": [
      "median with python is slower than median with numpy\n"
     ]
    }
   ],
   "source": [
    "print('median with python is slower than median with numpy') if (end_time - start_time) > (end_time_num-start_time_num) else 'median with numpy is slower than median with pyton'"
   ]
  },
  {
   "cell_type": "code",
   "execution_count": 43,
   "id": "81a17f5b",
   "metadata": {},
   "outputs": [
    {
     "name": "stdout",
     "output_type": "stream",
     "text": [
      " median with python:309.4454233646393 \n",
      " slower than \n",
      " median with numpy:108.23622441291809\n"
     ]
    }
   ],
   "source": [
    "print(f' median with python:{end_time - start_time} \\n slower than \\n median with numpy:{end_time_num-start_time_num}') if (end_time - start_time) > (end_time_num-start_time_num) else f'median with python:{end_time - start_time} \\n faster than \\n median with numpy:{end_time_num-start_time_num}'"
   ]
  },
  {
   "cell_type": "markdown",
   "id": "33bc4161",
   "metadata": {},
   "source": [
    "<mark>By outputs, we prove that the median with numpy is faster than median with python</mark>"
   ]
  },
  {
   "cell_type": "markdown",
   "id": "00d259e4",
   "metadata": {},
   "source": [
    "### <p style='color:#DAA520;background-color:gray;border-radius:10rem;text-align:center;padding:1rem'>Compare the time and result of the both ways with charts</p> "
   ]
  },
  {
   "cell_type": "markdown",
   "id": "c3d24b5b",
   "metadata": {},
   "source": [
    "### <p style='color:green;background-color:black;padding:1rem'>x and y for chart</p>"
   ]
  },
  {
   "cell_type": "code",
   "execution_count": 53,
   "id": "092035fe",
   "metadata": {},
   "outputs": [],
   "source": [
    "#x labe  and y label \n",
    "x = ['Numpy Median' , 'Python Median']\n",
    "y = np.array([end_time_num - start_time_num,end_time - start_time])\n"
   ]
  },
  {
   "cell_type": "markdown",
   "id": "82370cf8",
   "metadata": {},
   "source": [
    "### <p style='color:green;background-color:black;padding:1rem'>Line char</p>"
   ]
  },
  {
   "cell_type": "code",
   "execution_count": 57,
   "id": "416e7f4e",
   "metadata": {},
   "outputs": [
    {
     "data": {
      "image/png": "[encoded data removed]",
      "text/plain": [
       "<Figure size 640x480 with 1 Axes>"
      ]
     },
     "metadata": {},
     "output_type": "display_data"
    }
   ],
   "source": [
    "#chart\n",
    "plt.plot(x,y)\n",
    "plt.show()"
   ]
  },
  {
   "cell_type": "markdown",
   "id": "8b1ee775",
   "metadata": {},
   "source": [
    "<code>In numpy area line is less but furthur we get close to the python area the line is going up and is increasing which is another valid prof that numpy is faster</code >"
   ]
  },
  {
   "cell_type": "markdown",
   "id": "efe25df1",
   "metadata": {},
   "source": [
    "### <p style='color:green;background-color:black;padding:1rem'>Bar chart</p>"
   ]
  },
  {
   "cell_type": "code",
   "execution_count": 52,
   "id": "a6ec9093",
   "metadata": {},
   "outputs": [
    {
     "data": {
      "text/plain": [
       "<BarContainer object of 2 artists>"
      ]
     },
     "execution_count": 52,
     "metadata": {},
     "output_type": "execute_result"
    },
    {
     "data": {
      "image/png": "[encoded data removed]",
      "text/plain": [
       "<Figure size 640x480 with 1 Axes>"
      ]
     },
     "metadata": {},
     "output_type": "display_data"
    }
   ],
   "source": [
    "plt.bar(x,y)"
   ]
  },
  {
   "cell_type": "markdown",
   "id": "5ae53570",
   "metadata": {},
   "source": [
    "<code>We found out the bar chart in python median is more than numpy median, it proves that median with  numpy is faster than median with python</code >"
   ]
  },
  {
   "cell_type": "markdown",
   "id": "8c5d074d",
   "metadata": {},
   "source": [
    "# <p style=\"color:Gold\">Conclusion</p>"
   ]
  },
  {
   "cell_type": "markdown",
   "id": "f0ced4a3",
   "metadata": {},
   "source": [
    "1. <p style='background-color:black;padding:1rem'>In conclusion we found out the median with python is slower than median with numpy.</p>\n",
    "2. <p style='background-color:black;padding:1rem'>Although in the outputs and chart proved it, numpy is developed with C which obviously is faster than python.</p>\n",
    "3. <p style='background-color:black;padding:1rem'>In the chart we have better undersatanding about median in numpy is faster than median with python.</p>"
   ]
  }
 ],
 "metadata": {
  "kernelspec": {
   "display_name": "venv",
   "language": "python",
   "name": "python3"
  },
  "language_info": {
   "codemirror_mode": {
    "name": "ipython",
    "version": 3
   },
   "file_extension": ".py",
   "mimetype": "text/x-python",
   "name": "python",
   "nbconvert_exporter": "python",
   "pygments_lexer": "ipython3",
   "version": "3.12.5"
  }
 },
 "nbformat": 4,
 "nbformat_minor": 5
}
