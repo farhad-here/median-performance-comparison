{
 "cells": [
  {
   "cell_type": "markdown",
   "id": "416dcb53",
   "metadata": {},
   "source": [
    "# <p style='color:#DAA520;background-color:gray;border-radius:2rem;text-align:center;font-size:3rem;padding:1rem;width:1wh;height:1vh;display:flex;justify-content:center;align-items:center'>library</p>"
   ]
  },
  {
   "cell_type": "code",
   "execution_count": 1,
   "id": "f4c908de",
   "metadata": {},
   "outputs": [],
   "source": [
    "#library\n",
    "import numpy as np\n",
    "import time\n",
    "import matplotlib.pyplot as plt"
   ]
  },
  {
   "cell_type": "markdown",
   "id": "86439bc5",
   "metadata": {},
   "source": [
    "> <p style='padding:1rem'> <span style='color:yellow'>numpy</span> for our arithmetic work</p>\n",
    "> <p style='padding:1rem'> <span style='color:yellow'>time</span> for calculate the time of both ways, one way is with python and other way is with numpy for finding the median</p>\n",
    "> <p style='padding:1rem'> <span style='color:yellow'>matplotlib</span> is for chart</p>"
   ]
  },
  {
   "cell_type": "markdown",
   "id": "4c68f115",
   "metadata": {},
   "source": [
    "# <p style='color:#DAA520;background-color:gray;border-radius:2rem;text-align:center;font-size:3rem;padding:1rem;width:1wh;height:1vh;display:flex;justify-content:center;align-items:center'>Create a data</p>"
   ]
  },
  {
   "cell_type": "markdown",
   "id": "486e3941",
   "metadata": {},
   "source": [
    "> <h5 style='padding:1rem'> Create a hundred random numbers in the range of 20 and 60</h5>"
   ]
  },
  {
   "cell_type": "code",
   "execution_count": 2,
   "id": "f730871c",
   "metadata": {},
   "outputs": [
    {
     "data": {
      "text/plain": [
       "array([58, 48, 34, 27, 40, 58, 38, 42, 30, 30, 43, 55, 59, 43, 22, 41, 21,\n",
       "       43, 49, 57, 21, 40, 52, 31, 41, 44, 46, 47, 35, 34, 22, 56, 26, 40,\n",
       "       28, 58, 37, 23, 44, 33, 28, 45, 21, 39, 47, 26, 27, 54, 33, 36, 55,\n",
       "       59, 23, 21, 25, 23, 48, 37, 45, 53, 29, 55, 33, 50, 34, 27, 33, 42,\n",
       "       59, 40, 35, 37, 43, 45, 44, 48, 34, 20, 44, 26, 28, 43, 20, 27, 43,\n",
       "       30, 36, 27, 54, 54, 52, 24, 58, 47, 26, 28, 27, 31, 53, 52],\n",
       "      dtype=int32)"
      ]
     },
     "execution_count": 2,
     "metadata": {},
     "output_type": "execute_result"
    }
   ],
   "source": [
    "#create our data which is 100 random numbers between 20 and 60\n",
    "np.random.seed(42) #the random numbers be the same and does not change and give an anothere diffrent random numbers\n",
    "# 100 random numbers in range 20 to 60\n",
    "data = np.random.randint(20,60,100)\n",
    "data"
   ]
  },
  {
   "cell_type": "markdown",
   "id": "9b21cd1d",
   "metadata": {},
   "source": [
    "# <p style='color:#DAA520;background-color:gray;border-radius:2rem;text-align:center;font-size:3rem;padding:1rem;width:1wh;height:1vh;display:flex;justify-content:center;align-items:center'>Explanation</p>"
   ]
  },
  {
   "cell_type": "markdown",
   "id": "97e86427",
   "metadata": {},
   "source": [
    "#### Calculate average with python method"
   ]
  },
  {
   "cell_type": "markdown",
   "id": "a55bb245",
   "metadata": {},
   "source": [
    "> - <p style='padding:1rem'>first we sort data for putting an order to the values</p>\n",
    "> - <p style='padding:1rem'>second we find lenghth of the data with len and then with condition we find out (% 2 == 0) for finding is it odd or even</p>"
   ]
  },
  {
   "cell_type": "markdown",
   "id": "d7f5ec94",
   "metadata": {},
   "source": [
    "# <p style='color:#DAA520;background-color:gray;border-radius:2rem;text-align:center;font-size:3rem;padding:1rem;width:1wh;height:1vh;display:flex;justify-content:center;align-items:center'>sort data</p>"
   ]
  },
  {
   "cell_type": "markdown",
   "id": "0b6345f6",
   "metadata": {},
   "source": [
    "> <h5 style='padding:1rem;'> start to calculate the time of execution for the median calculation with python</h5> "
   ]
  },
  {
   "cell_type": "code",
   "execution_count": 3,
   "id": "74a1e07c",
   "metadata": {},
   "outputs": [],
   "source": [
    "#times\n",
    "start_time = time.time()"
   ]
  },
  {
   "cell_type": "markdown",
   "id": "20607a4f",
   "metadata": {},
   "source": [
    "> <h5 style='padding:1rem;'> sort </h5>"
   ]
  },
  {
   "cell_type": "code",
   "execution_count": 4,
   "id": "2013e95e",
   "metadata": {},
   "outputs": [
    {
     "data": {
      "text/plain": [
       "array([20, 20, 21, 21, 21, 21, 22, 22, 23, 23, 23, 24, 25, 26, 26, 26, 26,\n",
       "       27, 27, 27, 27, 27, 27, 28, 28, 28, 28, 29, 30, 30, 30, 31, 31, 33,\n",
       "       33, 33, 33, 34, 34, 34, 34, 35, 35, 36, 36, 37, 37, 37, 38, 39, 40,\n",
       "       40, 40, 40, 41, 41, 42, 42, 43, 43, 43, 43, 43, 43, 44, 44, 44, 44,\n",
       "       45, 45, 45, 46, 47, 47, 47, 48, 48, 48, 49, 50, 52, 52, 52, 53, 53,\n",
       "       54, 54, 54, 55, 55, 55, 56, 57, 58, 58, 58, 58, 59, 59, 59],\n",
       "      dtype=int32)"
      ]
     },
     "execution_count": 4,
     "metadata": {},
     "output_type": "execute_result"
    }
   ],
   "source": [
    "sort_data = np.sort(data)\n",
    "sort_data"
   ]
  },
  {
   "cell_type": "markdown",
   "id": "3c62d7b8",
   "metadata": {},
   "source": [
    "> <p style=\"padding:1rem;\">we use <span style='color:yellow'>sort</span> to put an order to the date</p>"
   ]
  },
  {
   "cell_type": "markdown",
   "id": "21040cd7",
   "metadata": {},
   "source": [
    "# <p style='color:#DAA520;background-color:gray;border-radius:2rem;text-align:center;font-size:3rem;padding:1rem;width:1wh;height:1vh;display:flex;justify-content:center;align-items:center'>Formula for calculate median</p>"
   ]
  },
  {
   "cell_type": "markdown",
   "id": "d0368509",
   "metadata": {},
   "source": [
    "> <h5 style='padding:1rem'> lets find out its odd or even for median</h5>"
   ]
  },
  {
   "cell_type": "code",
   "execution_count": 5,
   "id": "4231065a",
   "metadata": {},
   "outputs": [
    {
     "data": {
      "text/plain": [
       "100"
      ]
     },
     "execution_count": 5,
     "metadata": {},
     "output_type": "execute_result"
    }
   ],
   "source": [
    "#finding the len then going for odd or even for median\n",
    "n = len(sort_data)\n",
    "n"
   ]
  },
  {
   "cell_type": "markdown",
   "id": "deaab9ff",
   "metadata": {},
   "source": [
    "> <p style='padding:1rem'>we use <span style='color:yellow'>len</span> to find out the odd and even and then use formula</p>"
   ]
  },
  {
   "cell_type": "markdown",
   "id": "b301d026",
   "metadata": {},
   "source": [
    "<p>Formula is:</p>\n",
    "<p dir='center'>\n",
    "\n",
    "$$\n",
    "\\text{Median} = \n",
    "\\begin{cases}\n",
    "x_{\\frac{n+1}{2}}, & \\text{if } n \\text{ is odd} \\\\\n",
    "\\frac{x_{\\frac{n}{2}} + x_{\\frac{n}{2}+1}}{2}, & \\text{if } n \\text{ is even}\n",
    "\\end{cases}\n",
    "$$\n",
    "\n",
    "</p>"
   ]
  },
  {
   "cell_type": "code",
   "execution_count": 6,
   "id": "53044084",
   "metadata": {},
   "outputs": [
    {
     "name": "stdout",
     "output_type": "stream",
     "text": [
      "median is 39.5\n"
     ]
    }
   ],
   "source": [
    "if n % 2 == 0:\n",
    "       median_py = (sort_data[n//2-1] + sort_data[n//2])/2\n",
    "else:\n",
    "       median_py = sort_data[n//2]\n",
    "print('median is',median_py)\n"
   ]
  },
  {
   "cell_type": "markdown",
   "id": "456b5c54",
   "metadata": {},
   "source": [
    "> <h5 style='padding:1rem'> stop  to calculate the time of execution for the median calculation with python</h5>"
   ]
  },
  {
   "cell_type": "code",
   "execution_count": 7,
   "id": "facf432f",
   "metadata": {},
   "outputs": [],
   "source": [
    "#stop time\n",
    "end_time = time.time()"
   ]
  },
  {
   "cell_type": "code",
   "execution_count": 8,
   "id": "66d54768",
   "metadata": {},
   "outputs": [
    {
     "data": {
      "text/plain": [
       "1749061464.4592242"
      ]
     },
     "execution_count": 8,
     "metadata": {},
     "output_type": "execute_result"
    }
   ],
   "source": [
    "start_time"
   ]
  },
  {
   "cell_type": "code",
   "execution_count": 9,
   "id": "96db8eb2",
   "metadata": {},
   "outputs": [
    {
     "data": {
      "text/plain": [
       "1749061464.4873598"
      ]
     },
     "execution_count": 9,
     "metadata": {},
     "output_type": "execute_result"
    }
   ],
   "source": [
    "end_time"
   ]
  },
  {
   "cell_type": "markdown",
   "id": "9a194db4",
   "metadata": {},
   "source": [
    "> <h5 style='padding:1rem'> start to calculate the time of execution for median calculation with numpy"
   ]
  },
  {
   "cell_type": "code",
   "execution_count": 10,
   "id": "b8c71492",
   "metadata": {},
   "outputs": [],
   "source": [
    "#start time with method two\n",
    "start_time_num = time.time()"
   ]
  },
  {
   "cell_type": "markdown",
   "id": "2a9cc270",
   "metadata": {},
   "source": [
    "# <p style='color:#DAA520;background-color:gray;border-radius:2rem;text-align:center;font-size:3rem;padding:1rem;width:1wh;height:1vh;display:flex;justify-content:center;align-items:center'>median with numpy</p>"
   ]
  },
  {
   "cell_type": "markdown",
   "id": "aa1923da",
   "metadata": {},
   "source": [
    "> <h3 style='padding:1rem'> calculate the median with numpy method</h3>"
   ]
  },
  {
   "cell_type": "code",
   "execution_count": 11,
   "id": "12085e30",
   "metadata": {},
   "outputs": [
    {
     "name": "stdout",
     "output_type": "stream",
     "text": [
      "median is 39.5\n"
     ]
    }
   ],
   "source": [
    "# calculate median with numpy method\n",
    "median_numpy = np.median(data)\n",
    "print('median is',median_numpy)"
   ]
  },
  {
   "cell_type": "markdown",
   "id": "710f086b",
   "metadata": {},
   "source": [
    "> <h5 style='padding:1rem'> stop to calculate the time of execution for median calculation with numpy</h5>"
   ]
  },
  {
   "cell_type": "code",
   "execution_count": 12,
   "id": "3c143638",
   "metadata": {},
   "outputs": [],
   "source": [
    "#end time\n",
    "end_time_num = time.time()"
   ]
  },
  {
   "cell_type": "code",
   "execution_count": 13,
   "id": "012538c8",
   "metadata": {},
   "outputs": [
    {
     "data": {
      "text/plain": [
       "1749061464.505195"
      ]
     },
     "execution_count": 13,
     "metadata": {},
     "output_type": "execute_result"
    }
   ],
   "source": [
    "start_time_num"
   ]
  },
  {
   "cell_type": "code",
   "execution_count": 14,
   "id": "ccebb2df",
   "metadata": {},
   "outputs": [
    {
     "data": {
      "text/plain": [
       "1749061464.517505"
      ]
     },
     "execution_count": 14,
     "metadata": {},
     "output_type": "execute_result"
    }
   ],
   "source": [
    "end_time_num"
   ]
  },
  {
   "cell_type": "markdown",
   "id": "5c6617bd",
   "metadata": {},
   "source": [
    "# <p style='color:#DAA520;background-color:gray;border-radius:2rem;text-align:center;font-size:3rem;padding:1rem;width:1wh;height:1vh;display:flex;justify-content:center;align-items:center'>Result</p>"
   ]
  },
  {
   "cell_type": "markdown",
   "id": "dc085c3a",
   "metadata": {},
   "source": [
    "### <strong> now lets see the result<strong>"
   ]
  },
  {
   "cell_type": "markdown",
   "id": "6a17393e",
   "metadata": {},
   "source": [
    "> #### *compare the time of two methods of median*\n",
    ">> -  one of them is with formula (python)\n",
    ">> -  other one is with numpy method"
   ]
  },
  {
   "cell_type": "markdown",
   "id": "630748c6",
   "metadata": {},
   "source": [
    "\n",
    "> - time = end_time - start_time"
   ]
  },
  {
   "cell_type": "markdown",
   "id": "4e1cd0cd",
   "metadata": {},
   "source": [
    "### <p style='color:white;background-color:black;border-radius:2rem;padding:1rem;font-size:2rem;text-align:center'>python result and time</p>\n"
   ]
  },
  {
   "cell_type": "code",
   "execution_count": 15,
   "id": "b0cc71bb",
   "metadata": {},
   "outputs": [
    {
     "name": "stdout",
     "output_type": "stream",
     "text": [
      "Median with Python and formula: 39.5\n",
      "Time (Python): 0.0281355381 seconds\n"
     ]
    }
   ],
   "source": [
    "# with formula\n",
    "print(f\"Median with Python and formula: {median_py}\")\n",
    "# time\n",
    "print(f\"Time (Python): {end_time - start_time:.10f} seconds\")"
   ]
  },
  {
   "cell_type": "markdown",
   "id": "e90beca9",
   "metadata": {},
   "source": [
    "### <p style='color:white;background-color:black;border-radius:2rem;padding:1rem;font-size:2rem;text-align:center'>numpy result and time</p>"
   ]
  },
  {
   "cell_type": "code",
   "execution_count": 16,
   "id": "4e84af50",
   "metadata": {},
   "outputs": [
    {
     "name": "stdout",
     "output_type": "stream",
     "text": [
      "Median with NumPy: 39.5\n",
      "Time (NumPy): 0.0123100281 seconds\n"
     ]
    }
   ],
   "source": [
    "print(f\"Median with NumPy: {median_numpy}\")\n",
    "print(f\"Time (NumPy): {end_time_num - start_time_num:.10f} seconds\")"
   ]
  },
  {
   "cell_type": "code",
   "execution_count": 17,
   "id": "ea584f25",
   "metadata": {},
   "outputs": [
    {
     "data": {
      "text/plain": [
       "np.float64(38.79)"
      ]
     },
     "execution_count": 17,
     "metadata": {},
     "output_type": "execute_result"
    }
   ],
   "source": [
    "np.mean(data)"
   ]
  },
  {
   "cell_type": "markdown",
   "id": "2e36326d",
   "metadata": {},
   "source": [
    "> half of them are less then 39.5 and another half are more than 39.5"
   ]
  },
  {
   "cell_type": "markdown",
   "id": "ee942fa2",
   "metadata": {},
   "source": [
    "### <p style='color:#DAA520;background-color:gray;border-radius:2rem;text-align:center;font-size:2rem;padding:1rem'> more information</p>"
   ]
  },
  {
   "cell_type": "markdown",
   "id": "b455be11",
   "metadata": {},
   "source": [
    "\n",
    "> - <p style='color:yellow;'>The numpy is faster due to written with C</p>\n",
    "> - <p style='color:orange;'>The python is slower especially for huge datas</p>"
   ]
  },
  {
   "cell_type": "markdown",
   "id": "6c169cc0",
   "metadata": {},
   "source": [
    "<p style='color:green;background-color:black;border-radius:2rem;font-size:2rem;text-align:center;padding:1rem'> explanation and prove</p>"
   ]
  },
  {
   "cell_type": "code",
   "execution_count": 18,
   "id": "913cf44f",
   "metadata": {},
   "outputs": [
    {
     "name": "stdout",
     "output_type": "stream",
     "text": [
      "median with python is slower than median with numpy\n"
     ]
    }
   ],
   "source": [
    "print('median with python is slower than median with numpy') if (end_time - start_time) > (end_time_num-start_time_num) else 'median with numpy is slower than median with pyton'"
   ]
  },
  {
   "cell_type": "code",
   "execution_count": 19,
   "id": "81a17f5b",
   "metadata": {},
   "outputs": [
    {
     "name": "stdout",
     "output_type": "stream",
     "text": [
      " median with python:0.02813553810119629 \n",
      " slower than \n",
      " median with numpy:0.012310028076171875\n"
     ]
    }
   ],
   "source": [
    "print(f' median with python:{end_time - start_time} \\n slower than \\n median with numpy:{end_time_num-start_time_num}') if (end_time - start_time) > (end_time_num-start_time_num) else f'median with python:{end_time - start_time} \\n faster than \\n median with numpy:{end_time_num-start_time_num}'"
   ]
  },
  {
   "cell_type": "markdown",
   "id": "33bc4161",
   "metadata": {},
   "source": [
    "> <div style='padding:1rem'><mark>the outputs proved that the median with numpy is faster than median with python</mark></div>"
   ]
  },
  {
   "cell_type": "markdown",
   "id": "00d259e4",
   "metadata": {},
   "source": [
    "### <p style='color:#DAA520;background-color:gray;border-radius:2rem;text-align:center;font-size:3rem;padding:1rem;width:1wh;height:1vh;display:flex;justify-content:center;align-items:center'>Compare the time and result of the both ways with charts</p> "
   ]
  },
  {
   "cell_type": "markdown",
   "id": "c3d24b5b",
   "metadata": {},
   "source": [
    "### <p style='color:green;background-color:black;padding:1rem'>x and y for chart</p>"
   ]
  },
  {
   "cell_type": "code",
   "execution_count": 20,
   "id": "092035fe",
   "metadata": {},
   "outputs": [],
   "source": [
    "#x labe  and y label \n",
    "x = ['Numpy Median' , 'Python Median']\n",
    "y = np.array([end_time_num - start_time_num,end_time - start_time])\n"
   ]
  },
  {
   "cell_type": "markdown",
   "id": "82370cf8",
   "metadata": {},
   "source": [
    "### <p style='color:green;background-color:black;padding:1rem'>Line char</p>"
   ]
  },
  {
   "cell_type": "code",
   "execution_count": 21,
   "id": "416e7f4e",
   "metadata": {},
   "outputs": [
    {
     "data": {
      "image/png": "[encoded data removed]",
      "text/plain": [
       "<Figure size 640x480 with 1 Axes>"
      ]
     },
     "metadata": {},
     "output_type": "display_data"
    }
   ],
   "source": [
    "#chart\n",
    "plt.plot(x,y)\n",
    "plt.show()"
   ]
  },
  {
   "cell_type": "markdown",
   "id": "8b1ee775",
   "metadata": {},
   "source": [
    "<code>In numpy area line is less but furthur we get close to the python area the line is going up and is increasing which is another valid prof that numpy is faster</code >"
   ]
  },
  {
   "cell_type": "markdown",
   "id": "efe25df1",
   "metadata": {},
   "source": [
    "### <p style='color:green;background-color:black;padding:1rem'>Bar chart</p>"
   ]
  },
  {
   "cell_type": "code",
   "execution_count": 22,
   "id": "a6ec9093",
   "metadata": {},
   "outputs": [
    {
     "data": {
      "text/plain": [
       "<BarContainer object of 2 artists>"
      ]
     },
     "execution_count": 22,
     "metadata": {},
     "output_type": "execute_result"
    },
    {
     "data": {
      "image/png": "[encoded data removed]",
      "text/plain": [
       "<Figure size 640x480 with 1 Axes>"
      ]
     },
     "metadata": {},
     "output_type": "display_data"
    }
   ],
   "source": [
    "plt.bar(x,y)"
   ]
  },
  {
   "cell_type": "markdown",
   "id": "5ae53570",
   "metadata": {},
   "source": [
    "<code>We found out the bar chart in python median is more than numpy median, it proves that median with  numpy is faster than median with python</code >"
   ]
  },
  {
   "cell_type": "markdown",
   "id": "8c5d074d",
   "metadata": {},
   "source": [
    "# <p style=\"color:Gold;background-color:black;padding:1rem;text-align:center;border-radius:1rem\">Conclusion</p>"
   ]
  },
  {
   "cell_type": "markdown",
   "id": "f0ced4a3",
   "metadata": {},
   "source": [
    "1. <p style='background-color:black;padding:1rem'>In conclusion we found out the median with python is slower than median with numpy.</p>\n",
    "2. <p style='background-color:black;padding:1rem'>Although the outputs and charts proved it, numpy is developed with C which obviously is faster than python.</p>\n",
    "3. <p style='background-color:black;padding:1rem'>In the charts we have better undersatanding about median in numpy is faster than median with python.</p>"
   ]
  }
 ],
 "metadata": {
  "kernelspec": {
   "display_name": "venv",
   "language": "python",
   "name": "python3"
  },
  "language_info": {
   "codemirror_mode": {
    "name": "ipython",
    "version": 3
   },
   "file_extension": ".py",
   "mimetype": "text/x-python",
   "name": "python",
   "nbconvert_exporter": "python",
   "pygments_lexer": "ipython3",
   "version": "3.12.5"
  }
 },
 "nbformat": 4,
 "nbformat_minor": 5
}
